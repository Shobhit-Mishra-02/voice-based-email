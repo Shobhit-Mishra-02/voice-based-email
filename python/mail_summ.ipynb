{
 "cells": [
  {
   "cell_type": "code",
   "execution_count": 6,
   "id": "7428d334",
   "metadata": {},
   "outputs": [
    {
     "name": "stdout",
     "output_type": "stream",
     "text": [
      "If there are any specific procedures or forms that need to be completed for this leave request, please let me know, and I will take care of them promptly. The reason for my request is that my sister is getting married, and I would like to take this time to be with my family and participate in the joyous occasion. I will provide my contact information to the team and will promptly respond to emails or calls related to critical issues.\n"
     ]
    },
    {
     "name": "stderr",
     "output_type": "stream",
     "text": [
      "[nltk_data] Downloading package punkt to\n",
      "[nltk_data]     C:\\Users\\98117\\AppData\\Roaming\\nltk_data...\n",
      "[nltk_data]   Package punkt is already up-to-date!\n",
      "[nltk_data] Downloading package stopwords to\n",
      "[nltk_data]     C:\\Users\\98117\\AppData\\Roaming\\nltk_data...\n",
      "[nltk_data]   Package stopwords is already up-to-date!\n"
     ]
    }
   ],
   "source": [
    "import nltk\n",
    "from nltk.corpus import stopwords\n",
    "from nltk.tokenize import sent_tokenize, word_tokenize\n",
    "from nltk.probability import FreqDist\n",
    "from nltk.tokenize.treebank import TreebankWordDetokenizer\n",
    "\n",
    "nltk.download('punkt')\n",
    "nltk.download('stopwords')\n",
    "\n",
    "def preprocess_text(text):\n",
    "    # Tokenize the text into sentences and words\n",
    "    sentences = sent_tokenize(text)\n",
    "    words = word_tokenize(text)\n",
    "\n",
    "    # Remove stop words\n",
    "    stop_words = set(stopwords.words('english'))\n",
    "    filtered_words = [word.lower() for word in words if word.isalnum() and word.lower() not in stop_words]\n",
    "\n",
    "    return sentences, filtered_words\n",
    "\n",
    "def summarize_email(email_body, num_sentences=3):\n",
    "    sentences, filtered_words = preprocess_text(email_body)\n",
    "\n",
    "    # Calculate word frequencies\n",
    "    word_frequencies = FreqDist(filtered_words)\n",
    "\n",
    "    # Calculate sentence scores based on word frequencies\n",
    "    sentence_scores = {}\n",
    "    for sentence in sentences:\n",
    "        for word, freq in word_frequencies.items():\n",
    "            if word.lower() in sentence.lower():\n",
    "                if sentence in sentence_scores:\n",
    "                    sentence_scores[sentence] += freq\n",
    "                else:\n",
    "                    sentence_scores[sentence] = freq\n",
    "\n",
    "    # Get the top 'num_sentences' sentences as the summary\n",
    "    summary_sentences = sorted(sentence_scores, key=sentence_scores.get, reverse=True)[:num_sentences]\n",
    "\n",
    "    # Detokenize the summary sentences\n",
    "    summary = TreebankWordDetokenizer().detokenize(summary_sentences)\n",
    "\n",
    "    return summary\n",
    "\n",
    "# Example usage:\n",
    "email_body = \"\"\"\n",
    "Dear Manager,\n",
    "\n",
    "I trust this email finds you well. I am writing to request a one-week leave of absence from work, starting from November 17, 2023. The reason for my request is that my sister is getting married, and I would like to take this time to be with my family and participate in the joyous occasion.\n",
    "\n",
    "I understand the importance of my responsibilities at work and assure you that I will make every effort to complete any pending tasks before my departure. I will also ensure a smooth handover of my duties to [colleague's name or team] to minimize any impact on ongoing projects.\n",
    "\n",
    "During my absence, I will be reachable in case of any urgent matters that may require my attention. I will provide my contact information to the team and will promptly respond to emails or calls related to critical issues.\n",
    "\n",
    "I appreciate your understanding and support in granting me this time off to celebrate this significant event with my family. I am committed to ensuring that my absence will not adversely affect the team's productivity, and I will do my best to wrap up any loose ends before leaving.\n",
    "\n",
    "If there are any specific procedures or forms that need to be completed for this leave request, please let me know, and I will take care of them promptly.\n",
    "\n",
    "Thank you for considering my request, and I look forward to your guidance on the next steps.\n",
    "\n",
    "Best regards,\n",
    "\n",
    "Sameer\n",
    "analyst\n",
    "[Your Contact Information]\n",
    "\"\"\"\n",
    "\n",
    "summary = summarize_email(email_body)\n",
    "print(summary)"
   ]
  },
  {
   "cell_type": "code",
   "execution_count": 1,
   "id": "e0a8c80a",
   "metadata": {},
   "outputs": [
    {
     "name": "stdout",
     "output_type": "stream",
     "text": [
      "Requirement already satisfied: nltk in c:\\users\\98117\\anaconda3\\lib\\site-packages (3.7)Note: you may need to restart the kernel to use updated packages.\n",
      "\n",
      "Requirement already satisfied: click in c:\\users\\98117\\anaconda3\\lib\\site-packages (from nltk) (8.0.4)\n",
      "Requirement already satisfied: joblib in c:\\users\\98117\\anaconda3\\lib\\site-packages (from nltk) (1.2.0)\n",
      "Requirement already satisfied: regex>=2021.8.3 in c:\\users\\98117\\anaconda3\\lib\\site-packages (from nltk) (2022.7.9)\n",
      "Requirement already satisfied: tqdm in c:\\users\\98117\\anaconda3\\lib\\site-packages (from nltk) (4.65.0)\n",
      "Requirement already satisfied: colorama in c:\\users\\98117\\anaconda3\\lib\\site-packages (from click->nltk) (0.4.6)\n"
     ]
    }
   ],
   "source": []
  },
  {
   "cell_type": "code",
   "execution_count": null,
   "id": "b6bc9c95",
   "metadata": {},
   "outputs": [],
   "source": []
  }
 ],
 "metadata": {
  "kernelspec": {
   "display_name": "Python 3 (ipykernel)",
   "language": "python",
   "name": "python3"
  },
  "language_info": {
   "codemirror_mode": {
    "name": "ipython",
    "version": 3
   },
   "file_extension": ".py",
   "mimetype": "text/x-python",
   "name": "python",
   "nbconvert_exporter": "python",
   "pygments_lexer": "ipython3",
   "version": "3.11.3"
  }
 },
 "nbformat": 4,
 "nbformat_minor": 5
}
