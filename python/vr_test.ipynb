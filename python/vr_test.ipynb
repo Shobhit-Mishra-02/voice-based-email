{
 "cells": [
  {
   "cell_type": "code",
   "execution_count": 4,
   "id": "28044ba5",
   "metadata": {},
   "outputs": [
    {
     "name": "stdout",
     "output_type": "stream",
     "text": [
      "Overlap between dist and dist1:\n",
      "Total Overlapping Coordinates: 0\n",
      "Percentage of Overlap: 0.0 %\n",
      "Overlap between dist and dist2:\n",
      "Total Overlapping Coordinates: 65\n",
      "Percentage of Overlap: 9.923664122137405 %\n",
      "Overlap between dist and dist3:\n",
      "Total Overlapping Coordinates: 0\n",
      "Percentage of Overlap: 0.0 %\n",
      "matched\n"
     ]
    },
    {
     "data": {
      "image/png": "[encoded data removed]",
      "text/plain": [
       "<Figure size 640x480 with 1 Axes>"
      ]
     },
     "metadata": {},
     "output_type": "display_data"
    }
   ],
   "source": [
    "import librosa\n",
    "import numpy as np\n",
    "from fastdtw import fastdtw\n",
    "import matplotlib.pyplot as plt\n",
    "\n",
    "def extract_mfcc(audio_file):\n",
    "    audio, sample_rate = librosa.load(audio_file)\n",
    "    mfcc = librosa.feature.mfcc(y=audio, sr=sample_rate)\n",
    "    return mfcc\n",
    "\n",
    "def dtw_distance(mfcc1, mfcc2):\n",
    "    _, dist = fastdtw(mfcc1.T, mfcc2.T)\n",
    "    return dist\n",
    "\n",
    "def plot_dtw(dist, color, label):\n",
    "    plt.plot([0, 200], [0, 200], color=\"purple\")\n",
    "    for i in dist:\n",
    "        plt.plot(i[0], i[1], marker='o', color=color, alpha=0.3, label=label)\n",
    "\n",
    "def plot_ref(ref, color, label, line_width=2.0, vertical_shift=3):\n",
    "    for i in ref:\n",
    "        plt.plot(i[0], i[1] - vertical_shift, marker='o', color=color, alpha=0.3, label=label)\n",
    "#     for i in ref:\n",
    "#         plt.plot(i[0], i[1] + vertical_shift, marker='o', color=color, alpha=0.3, label=label)\n",
    "\n",
    "def find_overlap(dist, ref_dist):\n",
    "    total_overlap = sum(1 for i in dist if i in ref_dist)\n",
    "    percentage = (total_overlap / len(dist)) * 100\n",
    "    return total_overlap, percentage\n",
    "\n",
    "voiceprints = {\n",
    "    \"user1\": extract_mfcc(\"D:\\\\dataset\\\\tushar1.wav\"),\n",
    "    \"user2\": extract_mfcc(\"D:\\\\dataset\\\\tushar2.wav\"),\n",
    "    \"user3\": extract_mfcc(\"D:\\\\dataset\\\\tushar3.wav\")\n",
    "}\n",
    "\n",
    "verification_sample = extract_mfcc(\"D:\\\\dataset\\\\tushar_test.wav\")\n",
    "threshold = 1000\n",
    "\n",
    "ref1 = [(x, x - 2) for x in range(70, 201)] + [(x, x - 1) for x in range(70, 201)]  # Adjusted coordinates for ref1\n",
    "ref2 = [(x, x + 2) for x in range(70, 201)] + [(x, x + 1) for x in range(70, 201)]  # Adjusted coordinates for ref2\n",
    "\n",
    "dist = [(x, x) for x in range(70, 201)] + ref1 + ref2\n",
    "dist1 = dtw_distance(voiceprints[\"user1\"], verification_sample)\n",
    "dist2 = dtw_distance(voiceprints[\"user2\"], verification_sample)\n",
    "dist3 = dtw_distance(voiceprints[\"user3\"], verification_sample)\n",
    "\n",
    "plt.ylim(0, 200)\n",
    "plt.xlim(0, 200)\n",
    "\n",
    "# Plot for the references with vertical shift\n",
    "plot_ref(ref1, \"yellow\", \"Reference\", line_width=2.0, vertical_shift=1)\n",
    "plot_ref(ref2, \"yellow\", \"Reference\", line_width=2.0, vertical_shift=1)\n",
    "\n",
    "plot_dtw(dist, \"purple\", \"Reference\")\n",
    "plot_dtw(dist1, \"blue\", \"User1\")\n",
    "plot_dtw(dist2, \"red\", \"User2\")\n",
    "plot_dtw(dist3, \"green\", \"User3\")\n",
    "\n",
    "overlap_dist_dist1, percentage_dist_dist1 = find_overlap(dist, dist1)\n",
    "overlap_dist_dist2, percentage_dist_dist2 = find_overlap(dist, dist2)\n",
    "overlap_dist_dist3, percentage_dist_dist3 = find_overlap(dist, dist3)\n",
    "\n",
    "print(\"Overlap between dist and dist1:\")\n",
    "print(\"Total Overlapping Coordinates:\", overlap_dist_dist1)\n",
    "print(\"Percentage of Overlap:\", percentage_dist_dist1, \"%\")\n",
    "\n",
    "print(\"Overlap between dist and dist2:\")\n",
    "print(\"Total Overlapping Coordinates:\", overlap_dist_dist2)\n",
    "print(\"Percentage of Overlap:\", percentage_dist_dist2, \"%\")\n",
    "\n",
    "print(\"Overlap between dist and dist3:\")\n",
    "print(\"Total Overlapping Coordinates:\", overlap_dist_dist3)\n",
    "print(\"Percentage of Overlap:\", percentage_dist_dist3, \"%\")\n",
    "\n",
    "if any(overlap > 25 for overlap in [overlap_dist_dist1, overlap_dist_dist2, overlap_dist_dist3]):\n",
    "    print(\"matched\")\n",
    "else:\n",
    "    print(\"not matched\")\n",
    "\n",
    "plt.show()\n"
   ]
  },
  {
   "cell_type": "code",
   "execution_count": null,
   "id": "ba8347d0",
   "metadata": {},
   "outputs": [],
   "source": []
  }
 ],
 "metadata": {
  "kernelspec": {
   "display_name": "Python 3 (ipykernel)",
   "language": "python",
   "name": "python3"
  },
  "language_info": {
   "codemirror_mode": {
    "name": "ipython",
    "version": 3
   },
   "file_extension": ".py",
   "mimetype": "text/x-python",
   "name": "python",
   "nbconvert_exporter": "python",
   "pygments_lexer": "ipython3",
   "version": "3.11.3"
  }
 },
 "nbformat": 4,
 "nbformat_minor": 5
}
